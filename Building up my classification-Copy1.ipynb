{
 "cells": [
  {
   "cell_type": "code",
   "execution_count": 33,
   "metadata": {
    "collapsed": false
   },
   "outputs": [
    {
     "name": "stdout",
     "output_type": "stream",
     "text": [
      "The autoreload extension is already loaded. To reload it, use:\n",
      "  %reload_ext autoreload\n"
     ]
    }
   ],
   "source": [
    "#### print('This runs')\n",
    "\n",
    "\n",
    "import time\n",
    "import scipy\n",
    "import numpy as np\n",
    "import pylab\n",
    "import glob\n",
    "import matplotlib.pyplot as plt\n",
    "from PIL import Image\n",
    "from scipy import ndimage\n",
    "from dnn_app_utils_v2 import *\n",
    "%matplotlib inline\n",
    "plt.rcParams['figure.figsize'] = (5.0, 4.0) # set default size of plots\n",
    "plt.rcParams['image.interpolation'] = 'nearest'\n",
    "plt.rcParams['image.cmap'] = 'gray'\n",
    "\n",
    "%load_ext autoreload\n",
    "%autoreload 2\n",
    "\n",
    "np.random.seed(1)\n",
    "\n"
   ]
  },
  {
   "cell_type": "code",
   "execution_count": 34,
   "metadata": {
    "collapsed": false
   },
   "outputs": [],
   "source": [
    "yourpath = \"C:/Users/Shyee/Deep Learning/data/train/train/*.jpg\"\n",
    "mytest=\"C:/Users/Shyee/Deep Learning/data/test/me/*.jpg\"\n",
    "# labelling\n",
    "Ps = sorted(glob.glob(yourpath)) #path to your picture.jpg\n",
    "\n",
    "## slicing dataset\n",
    "one = Ps[132:] #from picture 133 to last SORTED picture\n",
    "more = Ps[:132] # from picure one to 132\n",
    "m = len(Ps)\n",
    "\n",
    "dat=[] #list to append picture properties/features\n",
    "\n",
    "for P in Ps:\n",
    "    labels1 = np.ones(len(one)) # Picture of one person labelled 1\n",
    "    labels2 = np.zeros(len(more)) # Picture of more than one people labelled 0\n",
    "    orig_img=Image.open(P)\n",
    "    img = orig_img.resize((64,64))\n",
    "    arr = np.array(img)\n",
    "    feature = arr.reshape(arr.size)\n",
    "    dat.append(feature)\n",
    "    \n",
    "####################### Now  test data processing    \n",
    "    \n",
    "PsTest = (glob.glob(mytest))\n",
    "meTest = PsTest[:40] # slicing\n",
    "nmeTest = PsTest[40:]  # slicing\n",
    "mTest=len(PsTest)\n",
    "datTest=[]\n",
    "\n",
    "\n",
    "for PTest in PsTest:\n",
    "    labels1Test = np.ones(len(meTest))\n",
    "    labels2Test = np.zeros(len(nmeTest))\n",
    "    orig_imgTest=Image.open(PTest)\n",
    "    imgTest = orig_imgTest.resize((64,64))\n",
    "    arrTest = np.array(imgTest)\n",
    "    featureTest= arrTest.reshape(arrTest.size)\n",
    "    datTest.append(featureTest)\n",
    "    \n"
   ]
  },
  {
   "cell_type": "code",
   "execution_count": 35,
   "metadata": {
    "collapsed": false
   },
   "outputs": [
    {
     "name": "stdout",
     "output_type": "stream",
     "text": [
      "218 196\n",
      "132 86\n",
      "C:/Users/Shyee/Deep Learning/data/train/train\\more (99).jpg\n",
      "0.0\n",
      "<class 'numpy.ndarray'> <class 'list'> (218, 12288) <class 'numpy.ndarray'>\n",
      "C:/Users/Shyee/Deep Learning/data/test/me\\not (132).jpg\n",
      "0.0\n",
      "<class 'numpy.ndarray'> <class 'list'> (196, 12288) <class 'numpy.ndarray'>\n"
     ]
    }
   ],
   "source": [
    "\n",
    "data = np.array(dat)\n",
    "\n",
    "dataTest=np.array(datTest)\n",
    "\n",
    "############### I use print() a lot to know the dimensions i'm working\n",
    "print(len(Ps), len(PsTest))\n",
    "\n",
    "#print(one[1])\n",
    "\n",
    "print(len(more), len(one))\n",
    "print(more[131])\n",
    "print(labels2[131])\n",
    "print(type(feature),type(dat),data.shape,type(data))\n",
    "#print(labels1,labels2)   \n",
    "\n",
    "print(nmeTest[36])\n",
    "print(labels2Test[36])\n",
    "print(type(featureTest),type(datTest),dataTest.shape,type(dataTest))\n",
    "#print(labels1Test,labels2Test)"
   ]
  },
  {
   "cell_type": "code",
   "execution_count": 36,
   "metadata": {
    "collapsed": false
   },
   "outputs": [
    {
     "name": "stdout",
     "output_type": "stream",
     "text": [
      "[[128 100  99 ..., 128  94  82]\n",
      " [150 153 144 ..., 117  85  88]\n",
      " [138 132  96 ..., 119  75  72]\n",
      " ..., \n",
      " [190 159 130 ..., 255 255 255]\n",
      " [215 215 213 ...,  53 206 237]\n",
      " [235 240 244 ..., 227 159 120]]\n",
      "[[255 255 255 ...,   5  84 117]\n",
      " [164 100  62 ...,  93  46  20]\n",
      " [117  67  44 ...,  96  51  20]\n",
      " ..., \n",
      " [177 171 123 ..., 176  26 100]\n",
      " [196 190 158 ..., 231  74 191]\n",
      " [ 75  71  33 ...,  27  20   2]]\n"
     ]
    }
   ],
   "source": [
    "##### Yeah!!!  I explore my dataset well\n",
    "print(data)\n",
    "print(dataTest)"
   ]
  },
  {
   "cell_type": "code",
   "execution_count": 37,
   "metadata": {
    "collapsed": false
   },
   "outputs": [],
   "source": [
    "#   Normalizing or so its called\n",
    "\n",
    "train_data = (data/255.).T\n",
    "\n",
    "test_data = (dataTest/255.).T\n",
    "\n"
   ]
  },
  {
   "cell_type": "code",
   "execution_count": 38,
   "metadata": {
    "collapsed": false
   },
   "outputs": [
    {
     "name": "stdout",
     "output_type": "stream",
     "text": [
      "(12288, 218) (86,) (132,)\n",
      "(12288, 196) (40,) (156,)\n"
     ]
    }
   ],
   "source": [
    "print(train_data.shape, labels1.shape,labels2.shape)\n",
    "\n",
    "print(test_data.shape, labels1Test.shape,labels2Test.shape)"
   ]
  },
  {
   "cell_type": "code",
   "execution_count": 39,
   "metadata": {
    "collapsed": false
   },
   "outputs": [
    {
     "name": "stdout",
     "output_type": "stream",
     "text": [
      "(1, 218)\n",
      "(1, 196)\n"
     ]
    }
   ],
   "source": [
    "#reshape>>>#data = data.reshape((data.shape[0], 1))\n",
    "\n",
    "#combine labes and concatenate#>>> np.concatenate((a, b), axis=0)\n",
    "\n",
    "labels1= labels1.reshape((labels1.shape[0], 1))\n",
    "labels2= labels2.reshape((labels2.shape[0], 1))\n",
    "Y = (np.concatenate((labels1, labels2), axis=0)).T #.................Y\n",
    "print(Y.shape)\n",
    "\n",
    "\n",
    "labels1Test= labels1Test.reshape((labels1Test.shape[0], 1))\n",
    "labels2Test= labels2Test.reshape((labels2Test.shape[0], 1))\n",
    "Y_Test = (np.concatenate((labels1Test, labels2Test), axis=0)).T #................Y_Test\n",
    "print(Y_Test.shape)"
   ]
  },
  {
   "cell_type": "code",
   "execution_count": 40,
   "metadata": {
    "collapsed": true
   },
   "outputs": [],
   "source": [
    "X = train_data\n",
    "\n",
    "X_Test = test_data\n"
   ]
  },
  {
   "cell_type": "code",
   "execution_count": 41,
   "metadata": {
    "collapsed": false
   },
   "outputs": [
    {
     "name": "stdout",
     "output_type": "stream",
     "text": [
      "(12288, 218) (1, 218) 218\n",
      "<class 'numpy.ndarray'> <class 'numpy.ndarray'>\n",
      "(12288, 196) (1, 196) 196\n",
      "<class 'numpy.ndarray'> <class 'numpy.ndarray'>\n"
     ]
    }
   ],
   "source": [
    "# Final dimensions of train data\n",
    "\n",
    "\n",
    "print(X.shape,Y.shape,m)\n",
    "print(type(X),type(Y))\n",
    "\n",
    "\n",
    "test_x = X_Test\n",
    "test_y = Y_Test\n",
    "\n",
    "print(X_Test.shape,Y_Test.shape,mTest)\n",
    "print(type(X_Test),type(Y_Test))\n",
    "\n",
    "\n"
   ]
  },
  {
   "cell_type": "code",
   "execution_count": 42,
   "metadata": {
    "collapsed": false
   },
   "outputs": [],
   "source": [
    "### CONSTANTS ###\n",
    "layers_dims = [12288, 227, 7, 5, 1] #  5-layer model"
   ]
  },
  {
   "cell_type": "code",
   "execution_count": 43,
   "metadata": {
    "collapsed": true
   },
   "outputs": [],
   "source": [
    "# GRADED FUNCTION: L_layer_model\n",
    "\n",
    "def L_layer_model(X, Y, layers_dims, learning_rate = 0.007, num_iterations = 3000, print_cost=False):#lr was 0.009\n",
    "    \"\"\"\n",
    "    Implements a L-layer neural network: [LINEAR->RELU]*(L-1)->LINEAR->SIGMOID.\n",
    "    \n",
    "    Arguments:\n",
    "    X -- data, numpy array of shape (number of examples, num_px * num_px * 3)\n",
    "    Y -- true \"label\" vector (containing 0 if cat, 1 if non-cat), of shape (1, number of examples)\n",
    "    layers_dims -- list containing the input size and each layer size, of length (number of layers + 1).\n",
    "    learning_rate -- learning rate of the gradient descent update rule\n",
    "    num_iterations -- number of iterations of the optimization loop\n",
    "    print_cost -- if True, it prints the cost every 100 steps\n",
    "    \n",
    "    Returns:\n",
    "    parameters -- parameters learnt by the model. They can then be used to predict.\n",
    "    \"\"\"\n",
    "\n",
    "    np.random.seed(1)\n",
    "    costs = []                         # keep track of cost\n",
    "    \n",
    "    # Parameters initialization.\n",
    "    ### START CODE HERE ###\n",
    "    parameters = initialize_parameters_deep(layers_dims)\n",
    "    ### END CODE HERE ###\n",
    "    \n",
    "    # Loop (gradient descent)\n",
    "    for i in range(0, num_iterations):\n",
    "\n",
    "        # Forward propagation: [LINEAR -> RELU]*(L-1) -> LINEAR -> SIGMOID.\n",
    "        ### START CODE HERE ### (≈ 1 line of code)\n",
    "        AL, caches = L_model_forward(X, parameters)\n",
    "        ### END CODE HERE ###\n",
    "        \n",
    "        # Compute cost.\n",
    "        ### START CODE HERE ### (≈ 1 line of code)\n",
    "        cost = compute_cost(AL, Y)\n",
    "        ### END CODE HERE ###\n",
    "    \n",
    "        # Backward propagation.\n",
    "        ### START CODE HERE ### (≈ 1 line of code)\n",
    "        grads = L_model_backward(AL, Y, caches)\n",
    "        ### END CODE HERE ###\n",
    " \n",
    "        # Update parameters.\n",
    "        ### START CODE HERE ### (≈ 1 line of code)\n",
    "        parameters = update_parameters(parameters, grads, learning_rate=learning_rate)\n",
    "        ### END CODE HERE ###\n",
    "                \n",
    "        # Print the cost every 100 training example\n",
    "        if print_cost and i % 100 == 0:\n",
    "            print (\"Cost after iteration %i: %f\" %(i, cost))\n",
    "        if print_cost and i % 100 == 0:\n",
    "            costs.append(cost)\n",
    "            \n",
    "    # plot the cost\n",
    "    plt.plot(np.squeeze(costs))\n",
    "    plt.ylabel('cost')\n",
    "    plt.xlabel('iterations (per tens)')\n",
    "    plt.title(\"Learning rate =\" + str(learning_rate))\n",
    "    plt.show()\n",
    "    \n",
    "    return parameters"
   ]
  },
  {
   "cell_type": "code",
   "execution_count": 50,
   "metadata": {
    "collapsed": false
   },
   "outputs": [
    {
     "name": "stdout",
     "output_type": "stream",
     "text": [
      "Cost after iteration 0: 0.694178\n",
      "Cost after iteration 100: 0.500161\n",
      "Cost after iteration 200: 0.356347\n"
     ]
    },
    {
     "data": {
      "image/png": "[encoded data removed]",
      "text/plain": [
       "<matplotlib.figure.Figure at 0xb310d8cf8>"
      ]
     },
     "metadata": {},
     "output_type": "display_data"
    }
   ],
   "source": [
    "#parameters = L_layer_model(train_x, train_y, layers_dims, num_iterations = 2500, print_cost = True)\n",
    "parameters = L_layer_model(X, Y, layers_dims, num_iterations = 250, print_cost = True)\n",
    "#parameters = L_layer_model(test_x, test_y, layers_dims, num_iterations = 500, print_cost = True)\n",
    "\n"
   ]
  },
  {
   "cell_type": "code",
   "execution_count": 53,
   "metadata": {
    "collapsed": false
   },
   "outputs": [
    {
     "name": "stdout",
     "output_type": "stream",
     "text": [
      "Accuracy: 0.894495412844\n"
     ]
    }
   ],
   "source": [
    "pred_train = predict(X, Y, parameters)"
   ]
  },
  {
   "cell_type": "code",
   "execution_count": 54,
   "metadata": {
    "collapsed": false
   },
   "outputs": [
    {
     "name": "stdout",
     "output_type": "stream",
     "text": [
      "Accuracy: 0.755102040816\n"
     ]
    }
   ],
   "source": [
    "predictions_test = predict(X_Test, Y_Test, parameters)"
   ]
  },
  {
   "cell_type": "code",
   "execution_count": null,
   "metadata": {
    "collapsed": true
   },
   "outputs": [],
   "source": []
  }
 ],
 "metadata": {
  "kernelspec": {
   "display_name": "Python 3",
   "language": "python",
   "name": "python3"
  },
  "language_info": {
   "codemirror_mode": {
    "name": "ipython",
    "version": 3
   },
   "file_extension": ".py",
   "mimetype": "text/x-python",
   "name": "python",
   "nbconvert_exporter": "python",
   "pygments_lexer": "ipython3",
   "version": "3.5.1"
  }
 },
 "nbformat": 4,
 "nbformat_minor": 0
}
